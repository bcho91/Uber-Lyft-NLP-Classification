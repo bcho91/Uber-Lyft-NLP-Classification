{
 "cells": [
  {
   "cell_type": "markdown",
   "metadata": {},
   "source": [
    "# Modeling  \n",
    "\n",
    "In this notebook, I will be utilizing three models: Naive Bayes, Logistic Classification, and Random Forest. The data for each model will be transformed through Count Vectorizer and the TFID Vectorizer.\n",
    "\n",
    "The output of this notebook will highlight the best perfoming model out of the possible six combinations."
   ]
  },
  {
   "cell_type": "code",
   "execution_count": 26,
   "metadata": {},
   "outputs": [],
   "source": [
    "# imports\n",
    "import pandas as pd\n",
    "import matplotlib.pyplot as plt\n",
    "from sklearn.model_selection import train_test_split, GridSearchCV\n",
    "from sklearn.pipeline import Pipeline\n",
    "from sklearn.naive_bayes import MultinomialNB\n",
    "from sklearn.linear_model import LogisticRegression\n",
    "from sklearn.metrics import (confusion_matrix, plot_confusion_matrix,\n",
    "                             accuracy_score, plot_roc_curve, roc_auc_score,\n",
    "                             recall_score, precision_score, f1_score)\n",
    "\n",
    "# Import CountVectorizer and TFIDFVectorizer from feature_extraction.text.\n",
    "from sklearn.feature_extraction.text import CountVectorizer, TfidfVectorizer\n",
    "\n",
    "import pandas as pd\n",
    "import numpy as np\n",
    "from sklearn.ensemble import RandomForestClassifier, ExtraTreesClassifier\n",
    "from sklearn.tree import DecisionTreeClassifier\n",
    "from sklearn.model_selection import cross_val_score, train_test_split, GridSearchCV\n",
    "from sklearn.ensemble import (GradientBoostingClassifier,\n",
    "                              AdaBoostClassifier,\n",
    "                              VotingClassifier)"
   ]
  },
  {
   "cell_type": "code",
   "execution_count": 2,
   "metadata": {},
   "outputs": [],
   "source": [
    "df = pd.read_csv('./data/rideshare_v2.csv')"
   ]
  },
  {
   "cell_type": "markdown",
   "metadata": {},
   "source": [
    "### The baseline accuracy is 50%"
   ]
  },
  {
   "cell_type": "code",
   "execution_count": 3,
   "metadata": {},
   "outputs": [
    {
     "data": {
      "text/plain": [
       "1    0.500215\n",
       "0    0.499785\n",
       "Name: subreddit, dtype: float64"
      ]
     },
     "execution_count": 3,
     "metadata": {},
     "output_type": "execute_result"
    }
   ],
   "source": [
    "df['subreddit'].value_counts(normalize=True)"
   ]
  },
  {
   "cell_type": "markdown",
   "metadata": {},
   "source": [
    "### Train, Test, Split Data"
   ]
  },
  {
   "cell_type": "code",
   "execution_count": 4,
   "metadata": {},
   "outputs": [],
   "source": [
    "X = df['selftext']\n",
    "y = df['subreddit']\n",
    "\n",
    "X_train,X_test,y_train,y_test = train_test_split(X,y,random_state=77, stratify=y)"
   ]
  },
  {
   "cell_type": "markdown",
   "metadata": {},
   "source": [
    "### Naive Bayes with a Count Vectorizer Transformer"
   ]
  },
  {
   "cell_type": "code",
   "execution_count": 5,
   "metadata": {},
   "outputs": [
    {
     "name": "stdout",
     "output_type": "stream",
     "text": [
      "Fitting 5 folds for each of 64 candidates, totalling 320 fits\n"
     ]
    },
    {
     "name": "stderr",
     "output_type": "stream",
     "text": [
      "[Parallel(n_jobs=6)]: Using backend LokyBackend with 6 concurrent workers.\n",
      "[Parallel(n_jobs=6)]: Done  38 tasks      | elapsed:    6.3s\n",
      "[Parallel(n_jobs=6)]: Done 188 tasks      | elapsed:   22.0s\n",
      "[Parallel(n_jobs=6)]: Done 320 out of 320 | elapsed:   37.4s finished\n"
     ]
    },
    {
     "data": {
      "text/plain": [
       "GridSearchCV(cv=5,\n",
       "             estimator=Pipeline(steps=[('cvec', CountVectorizer()),\n",
       "                                       ('nb', MultinomialNB())]),\n",
       "             n_jobs=6,\n",
       "             param_grid={'cvec__max_df': [0.9, 0.95],\n",
       "                         'cvec__max_features': [1000, 1500, 2000, 2500],\n",
       "                         'cvec__min_df': [2, 3],\n",
       "                         'cvec__ngram_range': [(1, 1), (1, 2)],\n",
       "                         'cvec__stop_words': [None, 'english']},\n",
       "             verbose=1)"
      ]
     },
     "execution_count": 5,
     "metadata": {},
     "output_type": "execute_result"
    }
   ],
   "source": [
    "nb_pipe = Pipeline([\n",
    "    ('sc', StandardScaler()),\n",
    "    ('nb', MultinomialNB())\n",
    "])\n",
    "\n",
    "nb_pipe_params = {\n",
    "    'cvec__stop_words': [None, 'english'],\n",
    "    'cvec__max_features': [1_000, 1_500, 2_000, 2_500],\n",
    "    'cvec__min_df': [2, 3],\n",
    "    'cvec__max_df': [.9, .95],\n",
    "    'cvec__ngram_range': [(1,1), (1,2)]\n",
    "}\n",
    "\n",
    "nb_gs = GridSearchCV(nb_pipe, \n",
    "                  param_grid=nb_pipe_params, \n",
    "                  cv=5,\n",
    "                  verbose=1,\n",
    "                  n_jobs=6)\n",
    "\n",
    "nb_gs.fit(X_train,y_train)"
   ]
  },
  {
   "cell_type": "code",
   "execution_count": 6,
   "metadata": {},
   "outputs": [],
   "source": [
    "def metrics(gridsearch):\n",
    "    best_score = gridsearch.best_score_\n",
    "    best_params = gridsearch.best_params_\n",
    "    train_score = gridsearch.score(X_train,y_train)\n",
    "    test_score = gridsearch.score(X_test,y_test)\n",
    "    return print(f'Best Score: {best_score}\\n\\nBest Params: {best_params}\\n\\nTrain Score: {train_score}\\n\\nTest Score: {test_score}')"
   ]
  },
  {
   "cell_type": "code",
   "execution_count": 7,
   "metadata": {},
   "outputs": [
    {
     "name": "stdout",
     "output_type": "stream",
     "text": [
      "Best Score: 0.7911301859799714\n",
      "\n",
      "Best Params: {'cvec__max_df': 0.9, 'cvec__max_features': 2500, 'cvec__min_df': 2, 'cvec__ngram_range': (1, 2), 'cvec__stop_words': 'english'}\n",
      "\n",
      "Train Score: 0.8552217453505007\n",
      "\n",
      "Test Score: 0.7965665236051502\n"
     ]
    }
   ],
   "source": [
    "metrics(nb_gs)"
   ]
  },
  {
   "cell_type": "code",
   "execution_count": 9,
   "metadata": {},
   "outputs": [],
   "source": [
    "# Get predictions\n",
    "nb_preds = nb_gs.predict(X_test)\n",
    "# Save confusion matrix values\n",
    "tn, fp, fn, tp = confusion_matrix(y_test, nb_preds).ravel()"
   ]
  },
  {
   "cell_type": "code",
   "execution_count": 10,
   "metadata": {},
   "outputs": [
    {
     "data": {
      "image/png": "[encoded data removed]",
      "text/plain": [
       "<Figure size 432x288 with 2 Axes>"
      ]
     },
     "metadata": {
      "needs_background": "light"
     },
     "output_type": "display_data"
    }
   ],
   "source": [
    "plot_confusion_matrix(nb_gs, X_test, y_test, cmap='Blues', values_format='d');"
   ]
  },
  {
   "cell_type": "code",
   "execution_count": 11,
   "metadata": {},
   "outputs": [
    {
     "name": "stdout",
     "output_type": "stream",
     "text": [
      "              precision    recall  f1-score   support\n",
      "\n",
      "           0       0.84      0.73      0.78       582\n",
      "           1       0.76      0.86      0.81       583\n",
      "\n",
      "    accuracy                           0.80      1165\n",
      "   macro avg       0.80      0.80      0.80      1165\n",
      "weighted avg       0.80      0.80      0.80      1165\n",
      "\n"
     ]
    }
   ],
   "source": [
    "from sklearn.metrics import classification_report\n",
    "\n",
    "print(classification_report(y_test, nb_preds))"
   ]
  },
  {
   "cell_type": "code",
   "execution_count": 12,
   "metadata": {},
   "outputs": [
    {
     "data": {
      "text/plain": [
       "0.8090249798549557"
      ]
     },
     "execution_count": 12,
     "metadata": {},
     "output_type": "execute_result"
    }
   ],
   "source": [
    "f1_score(y_test, nb_preds)"
   ]
  },
  {
   "cell_type": "code",
   "execution_count": 13,
   "metadata": {},
   "outputs": [
    {
     "name": "stdout",
     "output_type": "stream",
     "text": [
      "Specificity: 0.7319587628865979\n"
     ]
    }
   ],
   "source": [
    "# Calculate the specificity\n",
    "spec = tn / (tn + fp)\n",
    "recall = recall_score(y_test, nb_preds)\n",
    "sens = tp / (tp + fn)\n",
    "\n",
    "print('Specificity:', spec)"
   ]
  },
  {
   "cell_type": "markdown",
   "metadata": {},
   "source": [
    "### Naive Bayes with TfidfVectorizer"
   ]
  },
  {
   "cell_type": "code",
   "execution_count": 19,
   "metadata": {},
   "outputs": [],
   "source": [
    "nb2_pipe = Pipeline([\n",
    "    ('tvec', TfidfVectorizer()),\n",
    "    ('nb', MultinomialNB())\n",
    "])\n",
    "\n",
    "nb2_pipe_params = {\n",
    "    'tvec__stop_words': [None, 'english'],\n",
    "    'tvec__max_features': [1_000, 1_500, 2_000, 2_500],\n",
    "    'tvec__min_df': [2, 3],\n",
    "    'tvec__max_df': [.9, .95],\n",
    "    'tvec__ngram_range': [(1,1), (1,2)]\n",
    "}"
   ]
  },
  {
   "cell_type": "code",
   "execution_count": 18,
   "metadata": {},
   "outputs": [
    {
     "name": "stdout",
     "output_type": "stream",
     "text": [
      "Fitting 5 folds for each of 64 candidates, totalling 320 fits\n"
     ]
    },
    {
     "name": "stderr",
     "output_type": "stream",
     "text": [
      "[Parallel(n_jobs=6)]: Using backend LokyBackend with 6 concurrent workers.\n",
      "[Parallel(n_jobs=6)]: Done  38 tasks      | elapsed:    4.2s\n",
      "[Parallel(n_jobs=6)]: Done 188 tasks      | elapsed:   20.0s\n",
      "[Parallel(n_jobs=6)]: Done 320 out of 320 | elapsed:   36.5s finished\n"
     ]
    },
    {
     "data": {
      "text/plain": [
       "GridSearchCV(cv=5,\n",
       "             estimator=Pipeline(steps=[('tvec', TfidfVectorizer()),\n",
       "                                       ('nb', MultinomialNB())]),\n",
       "             n_jobs=6,\n",
       "             param_grid={'tvec__max_df': [0.9, 0.95],\n",
       "                         'tvec__max_features': [1000, 1500, 2000, 2500],\n",
       "                         'tvec__min_df': [2, 3],\n",
       "                         'tvec__ngram_range': [(1, 1), (1, 2)],\n",
       "                         'tvec__stop_words': [None, 'english']},\n",
       "             verbose=1)"
      ]
     },
     "execution_count": 18,
     "metadata": {},
     "output_type": "execute_result"
    }
   ],
   "source": [
    "nb2_gs = GridSearchCV(nb2_pipe, \n",
    "                  param_grid=nb2_pipe_params, \n",
    "                  cv=5,\n",
    "                  verbose=1,\n",
    "                  n_jobs=6)\n",
    "\n",
    "nb2_gs.fit(X_train,y_train)"
   ]
  },
  {
   "cell_type": "code",
   "execution_count": 16,
   "metadata": {},
   "outputs": [
    {
     "name": "stdout",
     "output_type": "stream",
     "text": [
      "Best Score: 0.7711015736766809\n",
      "\n",
      "Best Params: {'tvec__max_df': 0.9, 'tvec__max_features': 1000, 'tvec__min_df': 3, 'tvec__ngram_range': (1, 2), 'tvec__stop_words': None}\n",
      "\n",
      "Train Score: 0.8188841201716738\n",
      "\n",
      "Test Score: 0.7871244635193133\n"
     ]
    }
   ],
   "source": [
    "metrics(nb2_gs)"
   ]
  },
  {
   "cell_type": "code",
   "execution_count": 20,
   "metadata": {},
   "outputs": [
    {
     "data": {
      "image/png": "[encoded data removed]",
      "text/plain": [
       "<Figure size 432x288 with 2 Axes>"
      ]
     },
     "metadata": {
      "needs_background": "light"
     },
     "output_type": "display_data"
    }
   ],
   "source": [
    "nb2_preds = nb2_gs.predict(X_test)\n",
    "tn, fp, fn, tp = confusion_matrix(y_test, nb2_preds).ravel()\n",
    "plot_confusion_matrix(nb2_gs, X_test, y_test, cmap='Blues', values_format='d');"
   ]
  },
  {
   "cell_type": "code",
   "execution_count": 21,
   "metadata": {},
   "outputs": [
    {
     "name": "stdout",
     "output_type": "stream",
     "text": [
      "              precision    recall  f1-score   support\n",
      "\n",
      "           0       0.86      0.69      0.76       582\n",
      "           1       0.74      0.89      0.81       583\n",
      "\n",
      "    accuracy                           0.79      1165\n",
      "   macro avg       0.80      0.79      0.78      1165\n",
      "weighted avg       0.80      0.79      0.78      1165\n",
      "\n"
     ]
    }
   ],
   "source": [
    "from sklearn.metrics import classification_report\n",
    "\n",
    "print(classification_report(y_test, nb2_preds))"
   ]
  },
  {
   "cell_type": "markdown",
   "metadata": {},
   "source": [
    "### Logistic Regression"
   ]
  },
  {
   "cell_type": "code",
   "execution_count": 38,
   "metadata": {},
   "outputs": [
    {
     "name": "stdout",
     "output_type": "stream",
     "text": [
      "Fitting 5 folds for each of 64 candidates, totalling 320 fits\n"
     ]
    },
    {
     "name": "stderr",
     "output_type": "stream",
     "text": [
      "[Parallel(n_jobs=6)]: Using backend LokyBackend with 6 concurrent workers.\n",
      "[Parallel(n_jobs=6)]: Done  38 tasks      | elapsed:    5.6s\n",
      "[Parallel(n_jobs=6)]: Done 188 tasks      | elapsed:   26.8s\n",
      "[Parallel(n_jobs=6)]: Done 320 out of 320 | elapsed:   47.5s finished\n"
     ]
    },
    {
     "data": {
      "text/plain": [
       "GridSearchCV(cv=5,\n",
       "             estimator=Pipeline(steps=[('cvec', CountVectorizer()),\n",
       "                                       ('lr', LogisticRegression())]),\n",
       "             n_jobs=6,\n",
       "             param_grid={'cvec__max_df': [0.9, 0.95],\n",
       "                         'cvec__max_features': [1000, 1500, 2000, 2500],\n",
       "                         'cvec__min_df': [2, 3],\n",
       "                         'cvec__ngram_range': [(1, 1), (1, 2)],\n",
       "                         'cvec__stop_words': [None, 'english'],\n",
       "                         'lr__max_iter': [5000]},\n",
       "             verbose=1)"
      ]
     },
     "execution_count": 38,
     "metadata": {},
     "output_type": "execute_result"
    }
   ],
   "source": [
    "lr=LogisticRegression()\n",
    "\n",
    "lr_pipe = Pipeline([\n",
    "    ('cvec', CountVectorizer()),\n",
    "    ('lr', LogisticRegression())\n",
    "])\n",
    "\n",
    "lr_pipe_params = {\n",
    "    'cvec__stop_words': [None, 'english'],\n",
    "    'cvec__max_features': [1_000, 1_500, 2_000, 2_500],\n",
    "    'cvec__min_df': [2, 3],\n",
    "    'cvec__max_df': [.9, .95],\n",
    "    'cvec__ngram_range': [(1,1), (1,2)],\n",
    "    'lr__max_iter': [5000]\n",
    "}\n",
    "\n",
    "lr_gs = GridSearchCV(lr_pipe, \n",
    "                  param_grid=lr_pipe_params, \n",
    "                  cv=5,\n",
    "                  verbose=1,\n",
    "                  n_jobs=6)\n",
    "\n",
    "lr_gs.fit(X_train,y_train)"
   ]
  },
  {
   "cell_type": "code",
   "execution_count": 39,
   "metadata": {},
   "outputs": [
    {
     "name": "stdout",
     "output_type": "stream",
     "text": [
      "Best Score: 0.8074391988555079\n",
      "\n",
      "Best Params: {'cvec__max_df': 0.9, 'cvec__max_features': 2500, 'cvec__min_df': 3, 'cvec__ngram_range': (1, 1), 'cvec__stop_words': 'english', 'lr__max_iter': 5000}\n",
      "\n",
      "Train Score: 0.9547925608011445\n",
      "\n",
      "Test Score: 0.8214592274678112\n"
     ]
    }
   ],
   "source": [
    "metrics(lr_gs)"
   ]
  },
  {
   "cell_type": "code",
   "execution_count": 40,
   "metadata": {},
   "outputs": [
    {
     "data": {
      "image/png": "[encoded data removed]",
      "text/plain": [
       "<Figure size 432x288 with 2 Axes>"
      ]
     },
     "metadata": {
      "needs_background": "light"
     },
     "output_type": "display_data"
    }
   ],
   "source": [
    "lr_preds = lr_gs.predict(X_test)\n",
    "tn, fp, fn, tp = confusion_matrix(y_test, lr_preds).ravel()\n",
    "plot_confusion_matrix(lr_gs, X_test, y_test, cmap='Blues', values_format='d');"
   ]
  },
  {
   "cell_type": "code",
   "execution_count": 41,
   "metadata": {},
   "outputs": [
    {
     "name": "stdout",
     "output_type": "stream",
     "text": [
      "              precision    recall  f1-score   support\n",
      "\n",
      "           0       0.85      0.78      0.81       582\n",
      "           1       0.80      0.86      0.83       583\n",
      "\n",
      "    accuracy                           0.82      1165\n",
      "   macro avg       0.82      0.82      0.82      1165\n",
      "weighted avg       0.82      0.82      0.82      1165\n",
      "\n"
     ]
    }
   ],
   "source": [
    "from sklearn.metrics import classification_report\n",
    "\n",
    "print(classification_report(y_test, lr_preds))"
   ]
  },
  {
   "cell_type": "code",
   "execution_count": 43,
   "metadata": {},
   "outputs": [
    {
     "name": "stdout",
     "output_type": "stream",
     "text": [
      "Fitting 5 folds for each of 64 candidates, totalling 320 fits\n"
     ]
    },
    {
     "name": "stderr",
     "output_type": "stream",
     "text": [
      "[Parallel(n_jobs=6)]: Using backend LokyBackend with 6 concurrent workers.\n",
      "[Parallel(n_jobs=6)]: Done  38 tasks      | elapsed:    4.6s\n",
      "[Parallel(n_jobs=6)]: Done 188 tasks      | elapsed:   23.0s\n",
      "[Parallel(n_jobs=6)]: Done 320 out of 320 | elapsed:   39.4s finished\n"
     ]
    },
    {
     "data": {
      "text/plain": [
       "GridSearchCV(cv=5,\n",
       "             estimator=Pipeline(steps=[('tvec', TfidfVectorizer()),\n",
       "                                       ('lr2', LogisticRegression())]),\n",
       "             n_jobs=6,\n",
       "             param_grid={'lr2__max_iter': [5000], 'tvec__max_df': [0.9, 0.95],\n",
       "                         'tvec__max_features': [1000, 1500, 2000, 2500],\n",
       "                         'tvec__min_df': [2, 3],\n",
       "                         'tvec__ngram_range': [(1, 1), (1, 2)],\n",
       "                         'tvec__stop_words': [None, 'english']},\n",
       "             verbose=1)"
      ]
     },
     "execution_count": 43,
     "metadata": {},
     "output_type": "execute_result"
    }
   ],
   "source": [
    "lr2=LogisticRegression()\n",
    "\n",
    "lr2_pipe = Pipeline([\n",
    "    ('tvec', TfidfVectorizer()),\n",
    "    ('lr2', LogisticRegression())\n",
    "])\n",
    "\n",
    "lr2_pipe_params = {\n",
    "    'tvec__stop_words': [None, 'english'],\n",
    "    'tvec__max_features': [1_000, 1_500, 2_000, 2_500],\n",
    "    'tvec__min_df': [2, 3],\n",
    "    'tvec__max_df': [.9, .95],\n",
    "    'tvec__ngram_range': [(1,1), (1,2)],\n",
    "    'lr2__max_iter': [5000]\n",
    "}\n",
    "\n",
    "lr2_gs = GridSearchCV(lr2_pipe, \n",
    "                  param_grid=lr2_pipe_params, \n",
    "                  cv=5,\n",
    "                  verbose=1,\n",
    "                  n_jobs=6)\n",
    "\n",
    "lr2_gs.fit(X_train,y_train)"
   ]
  },
  {
   "cell_type": "code",
   "execution_count": 44,
   "metadata": {},
   "outputs": [
    {
     "name": "stdout",
     "output_type": "stream",
     "text": [
      "Best Score: 0.8277539341917024\n",
      "\n",
      "Best Params: {'lr2__max_iter': 5000, 'tvec__max_df': 0.9, 'tvec__max_features': 2500, 'tvec__min_df': 2, 'tvec__ngram_range': (1, 2), 'tvec__stop_words': 'english'}\n",
      "\n",
      "Train Score: 0.9055793991416309\n",
      "\n",
      "Test Score: 0.8420600858369098\n"
     ]
    }
   ],
   "source": [
    "metrics(lr2_gs)"
   ]
  },
  {
   "cell_type": "code",
   "execution_count": 45,
   "metadata": {},
   "outputs": [
    {
     "data": {
      "image/png": "[encoded data removed]",
      "text/plain": [
       "<Figure size 432x288 with 2 Axes>"
      ]
     },
     "metadata": {
      "needs_background": "light"
     },
     "output_type": "display_data"
    }
   ],
   "source": [
    "lr2_preds = lr2_gs.predict(X_test)\n",
    "tn, fp, fn, tp = confusion_matrix(y_test, lr2_preds).ravel()\n",
    "plot_confusion_matrix(lr2_gs, X_test, y_test, cmap='Blues', values_format='d');"
   ]
  },
  {
   "cell_type": "code",
   "execution_count": 46,
   "metadata": {},
   "outputs": [
    {
     "name": "stdout",
     "output_type": "stream",
     "text": [
      "              precision    recall  f1-score   support\n",
      "\n",
      "           0       0.90      0.77      0.83       582\n",
      "           1       0.80      0.92      0.85       583\n",
      "\n",
      "    accuracy                           0.84      1165\n",
      "   macro avg       0.85      0.84      0.84      1165\n",
      "weighted avg       0.85      0.84      0.84      1165\n",
      "\n"
     ]
    }
   ],
   "source": [
    "from sklearn.metrics import classification_report\n",
    "\n",
    "print(classification_report(y_test, lr2_preds))"
   ]
  },
  {
   "cell_type": "markdown",
   "metadata": {},
   "source": [
    "### Random Forest"
   ]
  },
  {
   "cell_type": "code",
   "execution_count": null,
   "metadata": {},
   "outputs": [],
   "source": [
    "X = df['selftext']\n",
    "y = df['subreddit']\n",
    "\n",
    "X_train,X_test,y_train,y_test = train_test_split(X,y,random_state=77, stratify=y)"
   ]
  },
  {
   "cell_type": "code",
   "execution_count": 48,
   "metadata": {},
   "outputs": [
    {
     "name": "stdout",
     "output_type": "stream",
     "text": [
      "Fitting 5 folds for each of 2304 candidates, totalling 11520 fits\n"
     ]
    },
    {
     "name": "stderr",
     "output_type": "stream",
     "text": [
      "[Parallel(n_jobs=6)]: Using backend LokyBackend with 6 concurrent workers.\n",
      "[Parallel(n_jobs=6)]: Done  38 tasks      | elapsed:    4.5s\n",
      "[Parallel(n_jobs=6)]: Done 188 tasks      | elapsed:   21.6s\n",
      "[Parallel(n_jobs=6)]: Done 438 tasks      | elapsed:   59.4s\n",
      "[Parallel(n_jobs=6)]: Done 788 tasks      | elapsed:  2.1min\n",
      "[Parallel(n_jobs=6)]: Done 1238 tasks      | elapsed:  3.3min\n",
      "[Parallel(n_jobs=6)]: Done 1788 tasks      | elapsed:  4.6min\n",
      "[Parallel(n_jobs=6)]: Done 2438 tasks      | elapsed:  6.4min\n",
      "[Parallel(n_jobs=6)]: Done 3188 tasks      | elapsed:  8.3min\n",
      "[Parallel(n_jobs=6)]: Done 4038 tasks      | elapsed: 10.7min\n",
      "[Parallel(n_jobs=6)]: Done 4988 tasks      | elapsed: 13.5min\n",
      "[Parallel(n_jobs=6)]: Done 6038 tasks      | elapsed: 16.1min\n",
      "[Parallel(n_jobs=6)]: Done 7188 tasks      | elapsed: 19.5min\n",
      "[Parallel(n_jobs=6)]: Done 8438 tasks      | elapsed: 22.7min\n",
      "[Parallel(n_jobs=6)]: Done 9788 tasks      | elapsed: 26.4min\n",
      "[Parallel(n_jobs=6)]: Done 11238 tasks      | elapsed: 30.4min\n",
      "[Parallel(n_jobs=6)]: Done 11520 out of 11520 | elapsed: 31.3min finished\n"
     ]
    },
    {
     "data": {
      "text/plain": [
       "GridSearchCV(cv=5,\n",
       "             estimator=Pipeline(steps=[('cvec', CountVectorizer()),\n",
       "                                       ('rf', RandomForestClassifier())]),\n",
       "             n_jobs=6,\n",
       "             param_grid={'cvec__max_df': [0.9, 0.95],\n",
       "                         'cvec__max_features': [1000, 1500, 2000, 2500],\n",
       "                         'cvec__min_df': [2, 3],\n",
       "                         'cvec__ngram_range': [(1, 1), (1, 2)],\n",
       "                         'cvec__stop_words': [None, 'english'],\n",
       "                         'rf__ccp_alpha': [0.001, 0.01],\n",
       "                         'rf__max_depth': [3, 4, 5],\n",
       "                         'rf__max_features': ['auto'],\n",
       "                         'rf__min_samples_leaf': [3, 4],\n",
       "                         'rf__n_estimators': [75, 125, 150]},\n",
       "             verbose=1)"
      ]
     },
     "execution_count": 48,
     "metadata": {},
     "output_type": "execute_result"
    }
   ],
   "source": [
    "rf_pipe = Pipeline([\n",
    "    ('cvec', CountVectorizer()),\n",
    "    ('rf', RandomForestClassifier())\n",
    "])\n",
    "\n",
    "rf_pipe_params = {\n",
    "    'cvec__stop_words': [None, 'english'],\n",
    "    'cvec__max_features': [1_000, 1_500, 2_000, 2_500],\n",
    "    'cvec__min_df': [2, 3],\n",
    "    'cvec__max_df': [.9, .95],\n",
    "    'cvec__ngram_range': [(1,1), (1,2)],\n",
    "    'rf__n_estimators': [75,125,150],\n",
    "    'rf__max_features': ['auto'],\n",
    "    'rf__max_depth': [3,4,5],\n",
    "    'rf__min_samples_leaf': [3,4],\n",
    "    'rf__ccp_alpha': [0.001,0.01]\n",
    "}\n",
    "\n",
    "rf_gs = GridSearchCV(rf_pipe, \n",
    "                  param_grid=rf_pipe_params, \n",
    "                  cv=5,\n",
    "                 verbose=1,\n",
    "                 n_jobs=6)\n",
    "\n",
    "rf_gs.fit(X_train,y_train)"
   ]
  },
  {
   "cell_type": "code",
   "execution_count": 49,
   "metadata": {},
   "outputs": [
    {
     "name": "stdout",
     "output_type": "stream",
     "text": [
      "Best Score: 0.8334763948497855\n",
      "\n",
      "Best Params: {'cvec__max_df': 0.9, 'cvec__max_features': 2500, 'cvec__min_df': 2, 'cvec__ngram_range': (1, 2), 'cvec__stop_words': 'english', 'rf__ccp_alpha': 0.001, 'rf__max_depth': 5, 'rf__max_features': 'auto', 'rf__min_samples_leaf': 3, 'rf__n_estimators': 75}\n",
      "\n",
      "Train Score: 0.8389127324749642\n",
      "\n",
      "Test Score: 0.8266094420600858\n"
     ]
    }
   ],
   "source": [
    "metrics(rf_gs)"
   ]
  },
  {
   "cell_type": "code",
   "execution_count": 50,
   "metadata": {},
   "outputs": [
    {
     "data": {
      "image/png": "[encoded data removed]",
      "text/plain": [
       "<Figure size 432x288 with 2 Axes>"
      ]
     },
     "metadata": {
      "needs_background": "light"
     },
     "output_type": "display_data"
    }
   ],
   "source": [
    "rf_preds = rf_gs.predict(X_test)\n",
    "tn, fp, fn, tp = confusion_matrix(y_test, rf_preds).ravel()\n",
    "plot_confusion_matrix(rf_gs, X_test, y_test, cmap='Blues', values_format='d');"
   ]
  },
  {
   "cell_type": "code",
   "execution_count": 51,
   "metadata": {},
   "outputs": [
    {
     "name": "stdout",
     "output_type": "stream",
     "text": [
      "              precision    recall  f1-score   support\n",
      "\n",
      "           0       0.91      0.72      0.81       582\n",
      "           1       0.77      0.93      0.84       583\n",
      "\n",
      "    accuracy                           0.83      1165\n",
      "   macro avg       0.84      0.83      0.82      1165\n",
      "weighted avg       0.84      0.83      0.82      1165\n",
      "\n"
     ]
    }
   ],
   "source": [
    "from sklearn.metrics import classification_report\n",
    "\n",
    "print(classification_report(y_test, rf_preds))"
   ]
  },
  {
   "cell_type": "code",
   "execution_count": 53,
   "metadata": {},
   "outputs": [
    {
     "name": "stdout",
     "output_type": "stream",
     "text": [
      "Fitting 5 folds for each of 2304 candidates, totalling 11520 fits\n"
     ]
    },
    {
     "name": "stderr",
     "output_type": "stream",
     "text": [
      "[Parallel(n_jobs=6)]: Using backend LokyBackend with 6 concurrent workers.\n",
      "[Parallel(n_jobs=6)]: Done  38 tasks      | elapsed:    5.8s\n",
      "[Parallel(n_jobs=6)]: Done 188 tasks      | elapsed:   27.0s\n",
      "[Parallel(n_jobs=6)]: Done 438 tasks      | elapsed:  1.2min\n",
      "[Parallel(n_jobs=6)]: Done 788 tasks      | elapsed:  2.2min\n",
      "[Parallel(n_jobs=6)]: Done 1238 tasks      | elapsed:  3.4min\n",
      "[Parallel(n_jobs=6)]: Done 1788 tasks      | elapsed:  5.2min\n",
      "[Parallel(n_jobs=6)]: Done 2438 tasks      | elapsed:  6.9min\n",
      "[Parallel(n_jobs=6)]: Done 3188 tasks      | elapsed:  9.1min\n",
      "[Parallel(n_jobs=6)]: Done 4038 tasks      | elapsed: 11.6min\n",
      "[Parallel(n_jobs=6)]: Done 4988 tasks      | elapsed: 14.4min\n",
      "[Parallel(n_jobs=6)]: Done 6038 tasks      | elapsed: 17.5min\n",
      "[Parallel(n_jobs=6)]: Done 7188 tasks      | elapsed: 20.7min\n",
      "[Parallel(n_jobs=6)]: Done 8438 tasks      | elapsed: 24.4min\n",
      "[Parallel(n_jobs=6)]: Done 9788 tasks      | elapsed: 28.3min\n",
      "[Parallel(n_jobs=6)]: Done 11238 tasks      | elapsed: 32.8min\n",
      "[Parallel(n_jobs=6)]: Done 11520 out of 11520 | elapsed: 33.7min finished\n"
     ]
    },
    {
     "data": {
      "text/plain": [
       "GridSearchCV(cv=5,\n",
       "             estimator=Pipeline(steps=[('tvec', TfidfVectorizer()),\n",
       "                                       ('rf2', RandomForestClassifier())]),\n",
       "             n_jobs=6,\n",
       "             param_grid={'rf2__ccp_alpha': [0.001, 0.01],\n",
       "                         'rf2__max_depth': [3, 4, 5],\n",
       "                         'rf2__max_features': ['auto'],\n",
       "                         'rf2__min_samples_leaf': [3, 4],\n",
       "                         'rf2__n_estimators': [75, 125, 150],\n",
       "                         'tvec__max_df': [0.9, 0.95],\n",
       "                         'tvec__max_features': [1000, 1500, 2000, 2500],\n",
       "                         'tvec__min_df': [2, 3],\n",
       "                         'tvec__ngram_range': [(1, 1), (1, 2)],\n",
       "                         'tvec__stop_words': [None, 'english']},\n",
       "             verbose=1)"
      ]
     },
     "execution_count": 53,
     "metadata": {},
     "output_type": "execute_result"
    }
   ],
   "source": [
    "rf2_pipe = Pipeline([\n",
    "    ('tvec', TfidfVectorizer()),\n",
    "    ('rf2', RandomForestClassifier())\n",
    "])\n",
    "\n",
    "rf2_pipe_params = {\n",
    "    'tvec__stop_words': [None, 'english'],\n",
    "    'tvec__max_features': [1_000, 1_500, 2_000, 2_500],\n",
    "    'tvec__min_df': [2, 3],\n",
    "    'tvec__max_df': [.9, .95],\n",
    "    'tvec__ngram_range': [(1,1), (1,2)],\n",
    "    'rf2__n_estimators': [75,125,150],\n",
    "    'rf2__max_features': ['auto'],\n",
    "    'rf2__max_depth': [3,4,5],\n",
    "    'rf2__min_samples_leaf': [3,4],\n",
    "    'rf2__ccp_alpha': [0.001,0.01]\n",
    "}\n",
    "\n",
    "rf2_gs = GridSearchCV(rf2_pipe, \n",
    "                  param_grid=rf2_pipe_params, \n",
    "                  cv=5,\n",
    "                 verbose=1,\n",
    "                 n_jobs=6)\n",
    "\n",
    "rf2_gs.fit(X_train,y_train)"
   ]
  },
  {
   "cell_type": "code",
   "execution_count": 55,
   "metadata": {},
   "outputs": [
    {
     "name": "stdout",
     "output_type": "stream",
     "text": [
      "Best Score: 0.8320457796852647\n",
      "\n",
      "Best Params: {'rf2__ccp_alpha': 0.001, 'rf2__max_depth': 5, 'rf2__max_features': 'auto', 'rf2__min_samples_leaf': 4, 'rf2__n_estimators': 150, 'tvec__max_df': 0.9, 'tvec__max_features': 2500, 'tvec__min_df': 2, 'tvec__ngram_range': (1, 2), 'tvec__stop_words': 'english'}\n",
      "\n",
      "Train Score: 0.8457796852646638\n",
      "\n",
      "Test Score: 0.8360515021459227\n"
     ]
    }
   ],
   "source": [
    "metrics(rf2_gs)"
   ]
  },
  {
   "cell_type": "code",
   "execution_count": 56,
   "metadata": {},
   "outputs": [
    {
     "data": {
      "image/png": "[encoded data removed]",
      "text/plain": [
       "<Figure size 432x288 with 2 Axes>"
      ]
     },
     "metadata": {
      "needs_background": "light"
     },
     "output_type": "display_data"
    }
   ],
   "source": [
    "rf2_preds = rf2_gs.predict(X_test)\n",
    "tn, fp, fn, tp = confusion_matrix(y_test, rf2_preds).ravel()\n",
    "plot_confusion_matrix(rf2_gs, X_test, y_test, cmap='Blues', values_format='d');"
   ]
  },
  {
   "cell_type": "code",
   "execution_count": 57,
   "metadata": {},
   "outputs": [
    {
     "name": "stdout",
     "output_type": "stream",
     "text": [
      "              precision    recall  f1-score   support\n",
      "\n",
      "           0       0.92      0.73      0.82       582\n",
      "           1       0.78      0.94      0.85       583\n",
      "\n",
      "    accuracy                           0.84      1165\n",
      "   macro avg       0.85      0.84      0.83      1165\n",
      "weighted avg       0.85      0.84      0.83      1165\n",
      "\n"
     ]
    }
   ],
   "source": [
    "from sklearn.metrics import classification_report\n",
    "\n",
    "print(classification_report(y_test, rf2_preds))"
   ]
  },
  {
   "cell_type": "markdown",
   "metadata": {},
   "source": [
    "### Conclusion and Recommendations"
   ]
  },
  {
   "cell_type": "markdown",
   "metadata": {},
   "source": [
    "It is a core business value to place customer centricity at the core of the business. In this project, I explored how Lyft can understand the customer voice through Natural Language Processing. In this case, a NLP Machine Learning model was created to predict whether text data came from the Lyft or Uber subreddit. I was able to achieve success with a logistic regression model with a TFID Vectorizer that classifies posts with 84% accuracy. This was a major improvement of the baseline model which had a 50% accuracy. Although the model was slightly overfit, the model had the highest test score of 0.84.\n",
    "\n",
    "**Recommendations**  \n",
    "Lyft can utilize this model to pull text data from other social media platforms in order to evaluate and collect service feedback in realtime. Further analysis of the sentiment polarity scores can be conducted in order to figure out the positive, negative, or neutral sentiments towards the brand. The sentiment analysis scores can also serve as a company wide metric as a basis for measuring customer satisfaction. The model provides leaders to drive better strategic decisions based on feedback from customers.\n",
    "\n",
    "In order to improve upon the model, a larger pool of data can be collected and fed into the model. The model will learn from the greater set of data and provide more accurate predictions. Furthermore, the data can be cleaned deeply by stemming/lemmatizing each post. By simplifying the text data, the model can learn from a uniform data set and therefore provide better predictions."
   ]
  }
 ],
 "metadata": {
  "kernelspec": {
   "display_name": "Python 3",
   "language": "python",
   "name": "python3"
  },
  "language_info": {
   "codemirror_mode": {
    "name": "ipython",
    "version": 3
   },
   "file_extension": ".py",
   "mimetype": "text/x-python",
   "name": "python",
   "nbconvert_exporter": "python",
   "pygments_lexer": "ipython3",
   "version": "3.8.5"
  }
 },
 "nbformat": 4,
 "nbformat_minor": 4
}
