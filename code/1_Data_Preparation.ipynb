{
 "cells": [
  {
   "cell_type": "markdown",
   "metadata": {},
   "source": [
    "# Project 3: Web APIs & NLP  \n",
    "\n",
    "### Problem Statement:  \n",
    "\n",
    "Reddit has been a popular source for consumers and brand owners alike to provide the untarnished truth about a product or service. Reddit inventivizes authors through karma points. Posts that have more upvote points (karma) end up being at the top of the page. This allows Reddit to provide users with the most relevant content.\n",
    "\n",
    "In today's market, it is imperative for businesses to be customer centric. Customers who are advocates for brands widely utilize social media to share their opinions and experiences. In this project, I will be creating a model that can predict whether a post originated from the Uber or Lyft Subreddit.  \n",
    "\n",
    "Lyft and Uber are two competitors in the rideshare market. In order to promote their brand, both companies must be able to deliver optimal service to riders and provide a healthy environment for workers as well. "
   ]
  },
  {
   "cell_type": "code",
   "execution_count": 1,
   "metadata": {},
   "outputs": [],
   "source": [
    "import requests\n",
    "import pandas as pd"
   ]
  },
  {
   "cell_type": "markdown",
   "metadata": {},
   "source": [
    "### Lyft Subreddit Data Gathering"
   ]
  },
  {
   "cell_type": "markdown",
   "metadata": {},
   "source": [
    "As the first step, I utilize the pushshift api to pull posts from a specific subreddit. The pushshift api is limited to pulling 100 posts. A function was created that accepts the subreddit and the initial utc of the subreddit's first post. The function was designed to create a dataframe of over 6800 posts that has the created utc, subreddit, self text, and title as features."
   ]
  },
  {
   "cell_type": "code",
   "execution_count": 2,
   "metadata": {},
   "outputs": [
    {
     "data": {
      "text/plain": [
       "200"
      ]
     },
     "execution_count": 2,
     "metadata": {},
     "output_type": "execute_result"
    }
   ],
   "source": [
    "url = 'https://api.pushshift.io//reddit/search/submission'\n",
    "params = {\n",
    "    'subreddit': 'Lyft',\n",
    "    'size':100\n",
    "}\n",
    "\n",
    "res = requests.get(url, params)\n",
    "res.status_code"
   ]
  },
  {
   "cell_type": "code",
   "execution_count": 3,
   "metadata": {},
   "outputs": [],
   "source": [
    "data = res.json()\n",
    "posts = data['data']"
   ]
  },
  {
   "cell_type": "code",
   "execution_count": 4,
   "metadata": {},
   "outputs": [
    {
     "data": {
      "text/plain": [
       "(100, 74)"
      ]
     },
     "execution_count": 4,
     "metadata": {},
     "output_type": "execute_result"
    }
   ],
   "source": [
    "df = pd.DataFrame(posts)\n",
    "df.shape"
   ]
  },
  {
   "cell_type": "code",
   "execution_count": 5,
   "metadata": {},
   "outputs": [
    {
     "data": {
      "text/html": [
       "<div>\n",
       "<style scoped>\n",
       "    .dataframe tbody tr th:only-of-type {\n",
       "        vertical-align: middle;\n",
       "    }\n",
       "\n",
       "    .dataframe tbody tr th {\n",
       "        vertical-align: top;\n",
       "    }\n",
       "\n",
       "    .dataframe thead th {\n",
       "        text-align: right;\n",
       "    }\n",
       "</style>\n",
       "<table border=\"1\" class=\"dataframe\">\n",
       "  <thead>\n",
       "    <tr style=\"text-align: right;\">\n",
       "      <th></th>\n",
       "      <th>created_utc</th>\n",
       "      <th>subreddit</th>\n",
       "      <th>selftext</th>\n",
       "      <th>title</th>\n",
       "    </tr>\n",
       "  </thead>\n",
       "  <tbody>\n",
       "    <tr>\n",
       "      <th>0</th>\n",
       "      <td>1616000327</td>\n",
       "      <td>Lyft</td>\n",
       "      <td>It’s very snowy in my area so i paid for a rid...</td>\n",
       "      <td>How to get help from Lyft</td>\n",
       "    </tr>\n",
       "    <tr>\n",
       "      <th>1</th>\n",
       "      <td>1615993961</td>\n",
       "      <td>Lyft</td>\n",
       "      <td>Hey all, I got charged for my first ever Lyft ...</td>\n",
       "      <td>Clarifying Question</td>\n",
       "    </tr>\n",
       "    <tr>\n",
       "      <th>2</th>\n",
       "      <td>1615992565</td>\n",
       "      <td>Lyft</td>\n",
       "      <td>So I signed on the lift today, if you ride bac...</td>\n",
       "      <td>I’ll be there I promise.</td>\n",
       "    </tr>\n",
       "    <tr>\n",
       "      <th>3</th>\n",
       "      <td>1615937479</td>\n",
       "      <td>Lyft</td>\n",
       "      <td>So i’m new to lyft actually this is my first r...</td>\n",
       "      <td>Scheduled a ride. Should i be worried?</td>\n",
       "    </tr>\n",
       "    <tr>\n",
       "      <th>4</th>\n",
       "      <td>1615876814</td>\n",
       "      <td>Lyft</td>\n",
       "      <td>Ordered Lyft, driver accepts, then goes to Bur...</td>\n",
       "      <td>Getting Burger King after accepting ride</td>\n",
       "    </tr>\n",
       "  </tbody>\n",
       "</table>\n",
       "</div>"
      ],
      "text/plain": [
       "   created_utc subreddit                                           selftext  \\\n",
       "0   1616000327      Lyft  It’s very snowy in my area so i paid for a rid...   \n",
       "1   1615993961      Lyft  Hey all, I got charged for my first ever Lyft ...   \n",
       "2   1615992565      Lyft  So I signed on the lift today, if you ride bac...   \n",
       "3   1615937479      Lyft  So i’m new to lyft actually this is my first r...   \n",
       "4   1615876814      Lyft  Ordered Lyft, driver accepts, then goes to Bur...   \n",
       "\n",
       "                                      title  \n",
       "0                 How to get help from Lyft  \n",
       "1                       Clarifying Question  \n",
       "2                  I’ll be there I promise.  \n",
       "3    Scheduled a ride. Should i be worried?  \n",
       "4  Getting Burger King after accepting ride  "
      ]
     },
     "execution_count": 5,
     "metadata": {},
     "output_type": "execute_result"
    }
   ],
   "source": [
    "df[['created_utc','subreddit','selftext','title']].head()"
   ]
  },
  {
   "cell_type": "code",
   "execution_count": 6,
   "metadata": {},
   "outputs": [
    {
     "data": {
      "text/html": [
       "<div>\n",
       "<style scoped>\n",
       "    .dataframe tbody tr th:only-of-type {\n",
       "        vertical-align: middle;\n",
       "    }\n",
       "\n",
       "    .dataframe tbody tr th {\n",
       "        vertical-align: top;\n",
       "    }\n",
       "\n",
       "    .dataframe thead th {\n",
       "        text-align: right;\n",
       "    }\n",
       "</style>\n",
       "<table border=\"1\" class=\"dataframe\">\n",
       "  <thead>\n",
       "    <tr style=\"text-align: right;\">\n",
       "      <th></th>\n",
       "      <th>created_utc</th>\n",
       "      <th>subreddit</th>\n",
       "      <th>selftext</th>\n",
       "      <th>title</th>\n",
       "    </tr>\n",
       "  </thead>\n",
       "  <tbody>\n",
       "    <tr>\n",
       "      <th>95</th>\n",
       "      <td>1613998501</td>\n",
       "      <td>Lyft</td>\n",
       "      <td>Normally my ride to work only runs me about 13...</td>\n",
       "      <td>Price increasing</td>\n",
       "    </tr>\n",
       "    <tr>\n",
       "      <th>96</th>\n",
       "      <td>1613947838</td>\n",
       "      <td>Lyft</td>\n",
       "      <td>[removed]</td>\n",
       "      <td>Free Car</td>\n",
       "    </tr>\n",
       "    <tr>\n",
       "      <th>97</th>\n",
       "      <td>1613946579</td>\n",
       "      <td>Lyft</td>\n",
       "      <td></td>\n",
       "      <td>Lyft misses payment to renew operating license...</td>\n",
       "    </tr>\n",
       "    <tr>\n",
       "      <th>98</th>\n",
       "      <td>1613937961</td>\n",
       "      <td>Lyft</td>\n",
       "      <td></td>\n",
       "      <td>Starting a Union in Sarasota Florida, for High...</td>\n",
       "    </tr>\n",
       "    <tr>\n",
       "      <th>99</th>\n",
       "      <td>1613933043</td>\n",
       "      <td>Lyft</td>\n",
       "      <td>Is their a ride service with car seats? I’m no...</td>\n",
       "      <td>In Seattle with kids</td>\n",
       "    </tr>\n",
       "  </tbody>\n",
       "</table>\n",
       "</div>"
      ],
      "text/plain": [
       "    created_utc subreddit                                           selftext  \\\n",
       "95   1613998501      Lyft  Normally my ride to work only runs me about 13...   \n",
       "96   1613947838      Lyft                                          [removed]   \n",
       "97   1613946579      Lyft                                                      \n",
       "98   1613937961      Lyft                                                      \n",
       "99   1613933043      Lyft  Is their a ride service with car seats? I’m no...   \n",
       "\n",
       "                                                title  \n",
       "95                                   Price increasing  \n",
       "96                                           Free Car  \n",
       "97  Lyft misses payment to renew operating license...  \n",
       "98  Starting a Union in Sarasota Florida, for High...  \n",
       "99                               In Seattle with kids  "
      ]
     },
     "execution_count": 6,
     "metadata": {},
     "output_type": "execute_result"
    }
   ],
   "source": [
    "df[['created_utc','subreddit','selftext','title']].tail()"
   ]
  },
  {
   "cell_type": "markdown",
   "metadata": {},
   "source": [
    "I noticed that the difference in the utc from the first and last post was approximately 2,000,000."
   ]
  },
  {
   "cell_type": "code",
   "execution_count": 7,
   "metadata": {},
   "outputs": [
    {
     "data": {
      "text/plain": [
       "1983737"
      ]
     },
     "execution_count": 7,
     "metadata": {},
     "output_type": "execute_result"
    }
   ],
   "source": [
    "#Difference between utc in the first - last post\n",
    "1615876814 - 1613893077\t"
   ]
  },
  {
   "cell_type": "markdown",
   "metadata": {},
   "source": [
    "Function that accepts the subreddit and the utc of the first post as parameters"
   ]
  },
  {
   "cell_type": "code",
   "execution_count": 8,
   "metadata": {},
   "outputs": [],
   "source": [
    "def reddit (subreddit,utc):\n",
    "    url = 'https://api.pushshift.io//reddit/search/submission'\n",
    "    df_subreddit = pd.DataFrame(columns=['created_utc','subreddit','selftext','title'])    \n",
    "    for x in range(utc, utc - 10**8, - 3*10**6):\n",
    "        params = {\n",
    "            'subreddit': subreddit,\n",
    "            'size':100,\n",
    "            'before': x}\n",
    "        res = requests.get(url, params)\n",
    "        data = res.json()\n",
    "        posts = data['data']\n",
    "        df = pd.DataFrame(posts, columns = ['created_utc','subreddit','selftext','title'])\n",
    "        df_subreddit = pd.concat([df_subreddit,df])\n",
    "    return df_subreddit"
   ]
  },
  {
   "cell_type": "code",
   "execution_count": 9,
   "metadata": {},
   "outputs": [],
   "source": [
    "lyft = reddit('Lyft', 1615876814)"
   ]
  },
  {
   "cell_type": "code",
   "execution_count": 10,
   "metadata": {},
   "outputs": [
    {
     "data": {
      "text/plain": [
       "(3400, 4)"
      ]
     },
     "execution_count": 10,
     "metadata": {},
     "output_type": "execute_result"
    }
   ],
   "source": [
    "lyft.shape"
   ]
  },
  {
   "cell_type": "code",
   "execution_count": 11,
   "metadata": {},
   "outputs": [
    {
     "data": {
      "text/plain": [
       "created_utc    3399\n",
       "subreddit         1\n",
       "selftext       2217\n",
       "title          3350\n",
       "dtype: int64"
      ]
     },
     "execution_count": 11,
     "metadata": {},
     "output_type": "execute_result"
    }
   ],
   "source": [
    "#Verify that the lyft df has 1000 unique values\n",
    "lyft.nunique()"
   ]
  },
  {
   "cell_type": "markdown",
   "metadata": {},
   "source": [
    "### Uber Subreddit Data Gathering"
   ]
  },
  {
   "cell_type": "code",
   "execution_count": 12,
   "metadata": {},
   "outputs": [
    {
     "data": {
      "text/plain": [
       "200"
      ]
     },
     "execution_count": 12,
     "metadata": {},
     "output_type": "execute_result"
    }
   ],
   "source": [
    "url = 'https://api.pushshift.io//reddit/search/submission'\n",
    "params = {\n",
    "    'subreddit': 'Uber',\n",
    "    'size':100\n",
    "}\n",
    "res = requests.get(url, params)\n",
    "res.status_code"
   ]
  },
  {
   "cell_type": "code",
   "execution_count": 13,
   "metadata": {},
   "outputs": [],
   "source": [
    "data_uber = res.json()\n",
    "posts = data_uber['data']"
   ]
  },
  {
   "cell_type": "code",
   "execution_count": 14,
   "metadata": {},
   "outputs": [
    {
     "data": {
      "text/plain": [
       "(100, 72)"
      ]
     },
     "execution_count": 14,
     "metadata": {},
     "output_type": "execute_result"
    }
   ],
   "source": [
    "df_uber = pd.DataFrame(posts)\n",
    "df_uber.shape"
   ]
  },
  {
   "cell_type": "code",
   "execution_count": 15,
   "metadata": {},
   "outputs": [
    {
     "data": {
      "text/html": [
       "<div>\n",
       "<style scoped>\n",
       "    .dataframe tbody tr th:only-of-type {\n",
       "        vertical-align: middle;\n",
       "    }\n",
       "\n",
       "    .dataframe tbody tr th {\n",
       "        vertical-align: top;\n",
       "    }\n",
       "\n",
       "    .dataframe thead th {\n",
       "        text-align: right;\n",
       "    }\n",
       "</style>\n",
       "<table border=\"1\" class=\"dataframe\">\n",
       "  <thead>\n",
       "    <tr style=\"text-align: right;\">\n",
       "      <th></th>\n",
       "      <th>created_utc</th>\n",
       "      <th>subreddit</th>\n",
       "      <th>selftext</th>\n",
       "      <th>title</th>\n",
       "    </tr>\n",
       "  </thead>\n",
       "  <tbody>\n",
       "    <tr>\n",
       "      <th>0</th>\n",
       "      <td>1616000783</td>\n",
       "      <td>uber</td>\n",
       "      <td>I'm new to uber. Have only used it a hand full...</td>\n",
       "      <td>No cars available, but still being charged? (h...</td>\n",
       "    </tr>\n",
       "    <tr>\n",
       "      <th>1</th>\n",
       "      <td>1615988041</td>\n",
       "      <td>uber</td>\n",
       "      <td></td>\n",
       "      <td>UBER DIETY AMOST OVER 12000!</td>\n",
       "    </tr>\n",
       "    <tr>\n",
       "      <th>2</th>\n",
       "      <td>1615986645</td>\n",
       "      <td>uber</td>\n",
       "      <td>I have a high passenger rating and can usually...</td>\n",
       "      <td>Trouble getting rides on any rideshare app?</td>\n",
       "    </tr>\n",
       "    <tr>\n",
       "      <th>3</th>\n",
       "      <td>1615946943</td>\n",
       "      <td>uber</td>\n",
       "      <td></td>\n",
       "      <td>Uber to pay drivers a minimum wage, holiday pa...</td>\n",
       "    </tr>\n",
       "    <tr>\n",
       "      <th>4</th>\n",
       "      <td>1615939820</td>\n",
       "      <td>uber</td>\n",
       "      <td>Are you partners with r/Uberdrivers because yo...</td>\n",
       "      <td>Uh...</td>\n",
       "    </tr>\n",
       "  </tbody>\n",
       "</table>\n",
       "</div>"
      ],
      "text/plain": [
       "   created_utc subreddit                                           selftext  \\\n",
       "0   1616000783      uber  I'm new to uber. Have only used it a hand full...   \n",
       "1   1615988041      uber                                                      \n",
       "2   1615986645      uber  I have a high passenger rating and can usually...   \n",
       "3   1615946943      uber                                                      \n",
       "4   1615939820      uber  Are you partners with r/Uberdrivers because yo...   \n",
       "\n",
       "                                               title  \n",
       "0  No cars available, but still being charged? (h...  \n",
       "1                       UBER DIETY AMOST OVER 12000!  \n",
       "2        Trouble getting rides on any rideshare app?  \n",
       "3  Uber to pay drivers a minimum wage, holiday pa...  \n",
       "4                                              Uh...  "
      ]
     },
     "execution_count": 15,
     "metadata": {},
     "output_type": "execute_result"
    }
   ],
   "source": [
    "df_uber[['created_utc','subreddit','selftext','title']].head()"
   ]
  },
  {
   "cell_type": "code",
   "execution_count": 16,
   "metadata": {},
   "outputs": [
    {
     "data": {
      "text/html": [
       "<div>\n",
       "<style scoped>\n",
       "    .dataframe tbody tr th:only-of-type {\n",
       "        vertical-align: middle;\n",
       "    }\n",
       "\n",
       "    .dataframe tbody tr th {\n",
       "        vertical-align: top;\n",
       "    }\n",
       "\n",
       "    .dataframe thead th {\n",
       "        text-align: right;\n",
       "    }\n",
       "</style>\n",
       "<table border=\"1\" class=\"dataframe\">\n",
       "  <thead>\n",
       "    <tr style=\"text-align: right;\">\n",
       "      <th></th>\n",
       "      <th>created_utc</th>\n",
       "      <th>subreddit</th>\n",
       "      <th>selftext</th>\n",
       "      <th>title</th>\n",
       "    </tr>\n",
       "  </thead>\n",
       "  <tbody>\n",
       "    <tr>\n",
       "      <th>95</th>\n",
       "      <td>1614881203</td>\n",
       "      <td>uber</td>\n",
       "      <td>So I have had 2 drivers show up to give rides ...</td>\n",
       "      <td>Two rides showed up that weren't requested.</td>\n",
       "    </tr>\n",
       "    <tr>\n",
       "      <th>96</th>\n",
       "      <td>1614874100</td>\n",
       "      <td>uber</td>\n",
       "      <td></td>\n",
       "      <td>Yo, get your free skin with code \"free100cc\"</td>\n",
       "    </tr>\n",
       "    <tr>\n",
       "      <th>97</th>\n",
       "      <td>1614821848</td>\n",
       "      <td>uber</td>\n",
       "      <td>I have had this problem before- I get an email...</td>\n",
       "      <td>Someone had access to my Uber account</td>\n",
       "    </tr>\n",
       "    <tr>\n",
       "      <th>98</th>\n",
       "      <td>1614821845</td>\n",
       "      <td>uber</td>\n",
       "      <td>[deleted]</td>\n",
       "      <td>Am I doing the right thing as a passenger?</td>\n",
       "    </tr>\n",
       "    <tr>\n",
       "      <th>99</th>\n",
       "      <td>1614812318</td>\n",
       "      <td>uber</td>\n",
       "      <td></td>\n",
       "      <td>LOL</td>\n",
       "    </tr>\n",
       "  </tbody>\n",
       "</table>\n",
       "</div>"
      ],
      "text/plain": [
       "    created_utc subreddit                                           selftext  \\\n",
       "95   1614881203      uber  So I have had 2 drivers show up to give rides ...   \n",
       "96   1614874100      uber                                                      \n",
       "97   1614821848      uber  I have had this problem before- I get an email...   \n",
       "98   1614821845      uber                                          [deleted]   \n",
       "99   1614812318      uber                                                      \n",
       "\n",
       "                                           title  \n",
       "95   Two rides showed up that weren't requested.  \n",
       "96  Yo, get your free skin with code \"free100cc\"  \n",
       "97         Someone had access to my Uber account  \n",
       "98    Am I doing the right thing as a passenger?  \n",
       "99                                           LOL  "
      ]
     },
     "execution_count": 16,
     "metadata": {},
     "output_type": "execute_result"
    }
   ],
   "source": [
    "df_uber[['created_utc','subreddit','selftext','title']].tail()"
   ]
  },
  {
   "cell_type": "code",
   "execution_count": 17,
   "metadata": {},
   "outputs": [
    {
     "data": {
      "text/plain": [
       "1140975"
      ]
     },
     "execution_count": 17,
     "metadata": {},
     "output_type": "execute_result"
    }
   ],
   "source": [
    "1615870847 - 1614729872\t"
   ]
  },
  {
   "cell_type": "code",
   "execution_count": 18,
   "metadata": {},
   "outputs": [],
   "source": [
    "uber = reddit('Uber',1615924925)"
   ]
  },
  {
   "cell_type": "code",
   "execution_count": 19,
   "metadata": {},
   "outputs": [
    {
     "data": {
      "text/plain": [
       "(3400, 4)"
      ]
     },
     "execution_count": 19,
     "metadata": {},
     "output_type": "execute_result"
    }
   ],
   "source": [
    "uber.shape"
   ]
  },
  {
   "cell_type": "markdown",
   "metadata": {},
   "source": [
    "I notice that the uber data has one duplicate, the value was dropped."
   ]
  },
  {
   "cell_type": "code",
   "execution_count": 20,
   "metadata": {},
   "outputs": [
    {
     "data": {
      "text/plain": [
       "created_utc    3398\n",
       "subreddit         1\n",
       "selftext       2061\n",
       "title          3349\n",
       "dtype: int64"
      ]
     },
     "execution_count": 20,
     "metadata": {},
     "output_type": "execute_result"
    }
   ],
   "source": [
    "uber.nunique()"
   ]
  },
  {
   "cell_type": "code",
   "execution_count": 21,
   "metadata": {},
   "outputs": [
    {
     "data": {
      "text/plain": [
       "(3400, 4)"
      ]
     },
     "execution_count": 21,
     "metadata": {},
     "output_type": "execute_result"
    }
   ],
   "source": [
    "uber.shape"
   ]
  },
  {
   "cell_type": "code",
   "execution_count": 22,
   "metadata": {},
   "outputs": [
    {
     "data": {
      "text/plain": [
       "created_utc    3398\n",
       "subreddit         1\n",
       "selftext       2061\n",
       "title          3349\n",
       "dtype: int64"
      ]
     },
     "execution_count": 22,
     "metadata": {},
     "output_type": "execute_result"
    }
   ],
   "source": [
    "uber.nunique()"
   ]
  },
  {
   "cell_type": "code",
   "execution_count": 24,
   "metadata": {},
   "outputs": [],
   "source": [
    "rideshare = pd.concat([lyft,uber])"
   ]
  },
  {
   "cell_type": "code",
   "execution_count": 25,
   "metadata": {},
   "outputs": [],
   "source": [
    "rideshare.to_csv('./data/rideshare.csv', index=False)"
   ]
  }
 ],
 "metadata": {
  "kernelspec": {
   "display_name": "Python 3",
   "language": "python",
   "name": "python3"
  },
  "language_info": {
   "codemirror_mode": {
    "name": "ipython",
    "version": 3
   },
   "file_extension": ".py",
   "mimetype": "text/x-python",
   "name": "python",
   "nbconvert_exporter": "python",
   "pygments_lexer": "ipython3",
   "version": "3.8.5"
  }
 },
 "nbformat": 4,
 "nbformat_minor": 4
}
